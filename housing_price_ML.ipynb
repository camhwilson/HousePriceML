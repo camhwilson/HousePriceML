{
 "cells": [
  {
   "cell_type": "code",
   "execution_count": 51,
   "id": "acbffb16",
   "metadata": {},
   "outputs": [],
   "source": [
    "import pandas as pd"
   ]
  },
  {
   "cell_type": "code",
   "execution_count": 52,
   "id": "5126fc0f",
   "metadata": {},
   "outputs": [],
   "source": [
    "iowa_file_path = 'train.csv'\n",
    "\n",
    "home_data = pd.read_csv(iowa_file_path)"
   ]
  },
  {
   "cell_type": "code",
   "execution_count": 53,
   "id": "bda11a61",
   "metadata": {},
   "outputs": [],
   "source": [
    "#I want to predict sales price\n",
    "prediction_target_df = home_data.SalePrice"
   ]
  },
  {
   "cell_type": "code",
   "execution_count": 54,
   "id": "cf0bb13a",
   "metadata": {},
   "outputs": [],
   "source": [
    "#features are elements used to predict the prediction target\n",
    "feature_names = ['LotArea', 'YearBuilt', '1stFlrSF','2ndFlrSF','FullBath','BedroomAbvGr','TotRmsAbvGrd']\n",
    "\n",
    "feature_column_df = home_data[feature_names]"
   ]
  },
  {
   "cell_type": "code",
   "execution_count": 55,
   "id": "d0d24585",
   "metadata": {},
   "outputs": [
    {
     "data": {
      "text/plain": [
       "DecisionTreeRegressor(random_state=1)"
      ]
     },
     "execution_count": 55,
     "metadata": {},
     "output_type": "execute_result"
    }
   ],
   "source": [
    "from sklearn.tree import DecisionTreeRegressor\n",
    "from sklearn.metrics import mean_absolute_error\n",
    "#imported ml library, creating model\n",
    "iowa_model = DecisionTreeRegressor(random_state=1)\n",
    "#populating model\n",
    "iowa_model.fit(feature_column_df, prediction_target_df)"
   ]
  },
  {
   "cell_type": "code",
   "execution_count": 56,
   "id": "2363c0bb",
   "metadata": {
    "scrolled": true
   },
   "outputs": [],
   "source": [
    "#predicting prediction target\n",
    "predictions = iowa_model.predict(feature_column_df)"
   ]
  },
  {
   "cell_type": "code",
   "execution_count": 57,
   "id": "62b72639",
   "metadata": {},
   "outputs": [
    {
     "name": "stdout",
     "output_type": "stream",
     "text": [
      "0    208500\n",
      "1    181500\n",
      "2    223500\n",
      "3    140000\n",
      "4    250000\n",
      "Name: SalePrice, dtype: int64 [208500. 181500. 223500. 140000. 250000.]\n"
     ]
    }
   ],
   "source": [
    "#compare prediction target to prediction\n",
    "print(prediction_target_df.head(), predictions[:5])"
   ]
  },
  {
   "cell_type": "code",
   "execution_count": 58,
   "id": "befb53a8",
   "metadata": {},
   "outputs": [
    {
     "data": {
      "text/plain": [
       "62.35433789954339"
      ]
     },
     "execution_count": 58,
     "metadata": {},
     "output_type": "execute_result"
    }
   ],
   "source": [
    "#assess on average how many dollars house price is off by\n",
    "mean_absolute_error(prediction_target_df, predictions)"
   ]
  },
  {
   "cell_type": "code",
   "execution_count": 59,
   "id": "57daccad",
   "metadata": {},
   "outputs": [],
   "source": [
    "#because it is bad practice to use data to predict the accuracy of itself, \n",
    "#you want to split the data and test using mean absolute error\n",
    "from sklearn.model_selection import train_test_split\n",
    "train_X, val_X, train_y, val_y = train_test_split(feature_column_df, prediction_target_df, random_state = 0)"
   ]
  },
  {
   "cell_type": "code",
   "execution_count": 60,
   "id": "e316aced",
   "metadata": {},
   "outputs": [
    {
     "data": {
      "text/plain": [
       "DecisionTreeRegressor()"
      ]
     },
     "execution_count": 60,
     "metadata": {},
     "output_type": "execute_result"
    }
   ],
   "source": [
    "#new model you want to test accuracy of\n",
    "melbourne_model = DecisionTreeRegressor()\n",
    "melbourne_model.fit(train_X, train_y)"
   ]
  },
  {
   "cell_type": "code",
   "execution_count": 61,
   "id": "ba9d19e1",
   "metadata": {},
   "outputs": [
    {
     "name": "stdout",
     "output_type": "stream",
     "text": [
      "33018.82465753425\n"
     ]
    }
   ],
   "source": [
    "new_predictions = melbourne_model.predict(val_X)\n",
    "print(mean_absolute_error(val_y, new_predictions))\n",
    "#you will see that these predictions are much less accurate than we initially thought"
   ]
  },
  {
   "cell_type": "code",
   "execution_count": null,
   "id": "53dcb3ee",
   "metadata": {},
   "outputs": [],
   "source": []
  }
 ],
 "metadata": {
  "kernelspec": {
   "display_name": "Python 3",
   "language": "python",
   "name": "python3"
  },
  "language_info": {
   "codemirror_mode": {
    "name": "ipython",
    "version": 3
   },
   "file_extension": ".py",
   "mimetype": "text/x-python",
   "name": "python",
   "nbconvert_exporter": "python",
   "pygments_lexer": "ipython3",
   "version": "3.8.8"
  }
 },
 "nbformat": 4,
 "nbformat_minor": 5
}
